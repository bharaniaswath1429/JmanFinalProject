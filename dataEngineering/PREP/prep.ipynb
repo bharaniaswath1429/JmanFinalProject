{
 "cells": [
  {
   "cell_type": "code",
   "execution_count": 1,
   "metadata": {},
   "outputs": [
    {
     "name": "stdout",
     "output_type": "stream",
     "text": [
      "Requirement already satisfied: watchdog in c:\\users\\bharaniaswathr\\anaconda3\\lib\\site-packages (4.0.1)\n",
      "Note: you may need to restart the kernel to use updated packages.\n"
     ]
    }
   ],
   "source": [
    "%pip install watchdog"
   ]
  },
  {
   "cell_type": "code",
   "execution_count": 3,
   "metadata": {},
   "outputs": [
    {
     "name": "stderr",
     "output_type": "stream",
     "text": [
      "C:\\Users\\BharaniAswathR\\AppData\\Local\\Temp\\ipykernel_50600\\1287312876.py:29: FutureWarning: A value is trying to be set on a copy of a DataFrame or Series through chained assignment using an inplace method.\n",
      "The behavior will change in pandas 3.0. This inplace method will never work because the intermediate object on which we are setting values always behaves as a copy.\n",
      "\n",
      "For example, when doing 'df[col].method(value, inplace=True)', try using 'df.method({col: value}, inplace=True)' or df[col] = df[col].method(value) instead, to perform the operation inplace on the original object.\n",
      "\n",
      "\n",
      "  users_df['reportingManager'].fillna('None', inplace=True)\n"
     ]
    },
    {
     "name": "stdout",
     "output_type": "stream",
     "text": [
      "Monitoring folder for changes...\n",
      "../RAW\\RAW_Users.csv has been modified. Preparing data...\n",
      "../RAW\\RAW_Users.csv has been modified. Preparing data...\n",
      "../RAW\\RAW_Courses.csv has been modified. Preparing data...\n",
      "../RAW\\RAW_Feedbacks.csv has been modified. Preparing data...\n"
     ]
    },
    {
     "name": "stderr",
     "output_type": "stream",
     "text": [
      "C:\\Users\\BharaniAswathR\\AppData\\Local\\Temp\\ipykernel_50600\\1287312876.py:29: FutureWarning: A value is trying to be set on a copy of a DataFrame or Series through chained assignment using an inplace method.\n",
      "The behavior will change in pandas 3.0. This inplace method will never work because the intermediate object on which we are setting values always behaves as a copy.\n",
      "\n",
      "For example, when doing 'df[col].method(value, inplace=True)', try using 'df.method({col: value}, inplace=True)' or df[col] = df[col].method(value) instead, to perform the operation inplace on the original object.\n",
      "\n",
      "\n",
      "  users_df['reportingManager'].fillna('None', inplace=True)\n",
      "C:\\Users\\BharaniAswathR\\AppData\\Local\\Temp\\ipykernel_50600\\1287312876.py:29: FutureWarning: A value is trying to be set on a copy of a DataFrame or Series through chained assignment using an inplace method.\n",
      "The behavior will change in pandas 3.0. This inplace method will never work because the intermediate object on which we are setting values always behaves as a copy.\n",
      "\n",
      "For example, when doing 'df[col].method(value, inplace=True)', try using 'df.method({col: value}, inplace=True)' or df[col] = df[col].method(value) instead, to perform the operation inplace on the original object.\n",
      "\n",
      "\n",
      "  users_df['reportingManager'].fillna('None', inplace=True)\n",
      "C:\\Users\\BharaniAswathR\\AppData\\Local\\Temp\\ipykernel_50600\\1287312876.py:29: FutureWarning: A value is trying to be set on a copy of a DataFrame or Series through chained assignment using an inplace method.\n",
      "The behavior will change in pandas 3.0. This inplace method will never work because the intermediate object on which we are setting values always behaves as a copy.\n",
      "\n",
      "For example, when doing 'df[col].method(value, inplace=True)', try using 'df.method({col: value}, inplace=True)' or df[col] = df[col].method(value) instead, to perform the operation inplace on the original object.\n",
      "\n",
      "\n",
      "  users_df['reportingManager'].fillna('None', inplace=True)\n",
      "C:\\Users\\BharaniAswathR\\AppData\\Local\\Temp\\ipykernel_50600\\1287312876.py:29: FutureWarning: A value is trying to be set on a copy of a DataFrame or Series through chained assignment using an inplace method.\n",
      "The behavior will change in pandas 3.0. This inplace method will never work because the intermediate object on which we are setting values always behaves as a copy.\n",
      "\n",
      "For example, when doing 'df[col].method(value, inplace=True)', try using 'df.method({col: value}, inplace=True)' or df[col] = df[col].method(value) instead, to perform the operation inplace on the original object.\n",
      "\n",
      "\n",
      "  users_df['reportingManager'].fillna('None', inplace=True)\n"
     ]
    },
    {
     "name": "stdout",
     "output_type": "stream",
     "text": [
      "../RAW\\RAW_TrainingPerformances.csv has been modified. Preparing data...\n"
     ]
    },
    {
     "name": "stderr",
     "output_type": "stream",
     "text": [
      "C:\\Users\\BharaniAswathR\\AppData\\Local\\Temp\\ipykernel_50600\\1287312876.py:29: FutureWarning: A value is trying to be set on a copy of a DataFrame or Series through chained assignment using an inplace method.\n",
      "The behavior will change in pandas 3.0. This inplace method will never work because the intermediate object on which we are setting values always behaves as a copy.\n",
      "\n",
      "For example, when doing 'df[col].method(value, inplace=True)', try using 'df.method({col: value}, inplace=True)' or df[col] = df[col].method(value) instead, to perform the operation inplace on the original object.\n",
      "\n",
      "\n",
      "  users_df['reportingManager'].fillna('None', inplace=True)\n"
     ]
    }
   ],
   "source": [
    "import pandas as pd\n",
    "from watchdog.observers import Observer\n",
    "from watchdog.events import FileSystemEventHandler\n",
    "import time\n",
    "import os\n",
    "\n",
    "class CSVHandler(FileSystemEventHandler):\n",
    "    def on_modified(self, event):\n",
    "        # Check if the modified file is one of the raw CSV files\n",
    "        if event.src_path.endswith('.csv'):\n",
    "            print(f'{event.src_path} has been modified. Preparing data...')\n",
    "            preparingData()\n",
    "\n",
    "def preparingData():\n",
    "    users_df = pd.read_csv('../raw/RAW_Users.csv')\n",
    "    courses_df = pd.read_csv('../raw/RAW_Courses.csv')\n",
    "    feedbacks_df = pd.read_csv('../raw/RAW_Feedbacks.csv')\n",
    "    training_performance_df = pd.read_csv('../raw/RAW_TrainingPerformances.csv')\n",
    "\n",
    "    # Cleaning data (example)\n",
    "    users_df.drop(columns=['createdAt', 'updatedAt'], inplace=True)\n",
    "    feedbacks_df.drop(columns=['createdAt', 'updatedAt'], inplace=True)\n",
    "    courses_df.drop(columns=['createdAt', 'updatedAt'], inplace=True)\n",
    "    \n",
    "    courses_df['startCourseDate'] = pd.to_datetime(courses_df['startCourseDate'])\n",
    "    courses_df['courseExpireDate'] = pd.to_datetime(courses_df['courseExpireDate'])\n",
    "\n",
    "    # Filling NaNs in reportingManager with 'None'\n",
    "    users_df['reportingManager'].fillna('None', inplace=True)\n",
    "\n",
    "    # Save prepped data\n",
    "    users_df.to_csv('PREP_Users.csv', index=False)\n",
    "    courses_df.to_csv('PREP_Courses.csv', index=False)\n",
    "    feedbacks_df.to_csv('PREP_Feedbacks.csv', index=False)\n",
    "    training_performance_df.to_csv('PREP_TrainingPerformances.csv', index=False)\n",
    "\n",
    "if __name__ == \"__main__\":\n",
    "    preparingData()\n",
    "    path = '../RAW'  # Path to the folder you want to monitor\n",
    "    event_handler = CSVHandler()\n",
    "    observer = Observer()\n",
    "    observer.schedule(event_handler, path, recursive=False)\n",
    "\n",
    "    print(\"Monitoring folder for changes...\")\n",
    "    observer.start()\n",
    "    \n",
    "    try:\n",
    "        while True:\n",
    "            time.sleep(1)  # Keep the script running\n",
    "    except KeyboardInterrupt:\n",
    "        observer.stop()\n",
    "    observer.join()\n"
   ]
  }
 ],
 "metadata": {
  "kernelspec": {
   "display_name": "base",
   "language": "python",
   "name": "python3"
  },
  "language_info": {
   "codemirror_mode": {
    "name": "ipython",
    "version": 3
   },
   "file_extension": ".py",
   "mimetype": "text/x-python",
   "name": "python",
   "nbconvert_exporter": "python",
   "pygments_lexer": "ipython3",
   "version": "3.12.4"
  }
 },
 "nbformat": 4,
 "nbformat_minor": 2
}
